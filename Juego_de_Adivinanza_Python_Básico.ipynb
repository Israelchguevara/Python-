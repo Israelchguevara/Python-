{
  "cells": [
    {
      "cell_type": "markdown",
      "metadata": {
        "id": "view-in-github",
        "colab_type": "text"
      },
      "source": [
        "<a href=\"https://colab.research.google.com/github/Israelchguevara/Python-/blob/main/Juego_de_Adivinanza_Python_B%C3%A1sico.ipynb\" target=\"_parent\"><img src=\"https://colab.research.google.com/assets/colab-badge.svg\" alt=\"Open In Colab\"/></a>"
      ]
    },
    {
      "cell_type": "markdown",
      "id": "3eee1d2e",
      "metadata": {
        "id": "3eee1d2e"
      },
      "source": [
        "\n",
        "# Juego de Adivinanza - Python Básico  \n"
      ]
    },
    {
      "cell_type": "markdown",
      "id": "0302fd15",
      "metadata": {
        "id": "0302fd15"
      },
      "source": [
        "## Paso 1: Importar librerías necesarias"
      ]
    },
    {
      "cell_type": "code",
      "execution_count": null,
      "id": "a0f16354",
      "metadata": {
        "id": "a0f16354"
      },
      "outputs": [],
      "source": [
        "\n",
        "import random\n",
        "import os\n",
        "from openpyxl import Workbook, load_workbook\n",
        "import matplotlib.pyplot as plt\n"
      ]
    },
    {
      "cell_type": "markdown",
      "id": "eb9f8ebe",
      "metadata": {
        "id": "eb9f8ebe"
      },
      "source": [
        "## Paso 2: Definir archivo Excel"
      ]
    },
    {
      "cell_type": "code",
      "execution_count": null,
      "id": "daefcec4",
      "metadata": {
        "id": "daefcec4"
      },
      "outputs": [],
      "source": [
        "\n",
        "EXCEL_FILE = \"resultados.xlsx\"\n"
      ]
    },
    {
      "cell_type": "markdown",
      "id": "7d0e6fbf",
      "metadata": {
        "id": "7d0e6fbf"
      },
      "source": [
        "## Paso 3: Crear el archivo Excel inicial si no existe"
      ]
    },
    {
      "cell_type": "code",
      "execution_count": null,
      "id": "2073e148",
      "metadata": {
        "id": "2073e148"
      },
      "outputs": [],
      "source": [
        "\n",
        "def inicializar_excel():\n",
        "    \"\"\"\n",
        "    Crea el archivo Excel con una hoja 'RESUMEN'\n",
        "    y las columnas Nivel, Victorias y Derrotas.\n",
        "    \"\"\"\n",
        "    if not os.path.exists(EXCEL_FILE):\n",
        "        wb = Workbook()\n",
        "        ws = wb.active\n",
        "        ws.title = \"RESUMEN\"\n",
        "        ws.append([\"Nivel\", \"Victorias\", \"Derrotas\"])\n",
        "        ws.append([\"Fácil\", 0, 0])\n",
        "        ws.append([\"Medio\", 0, 0])\n",
        "        ws.append([\"Difícil\", 0, 0])\n",
        "        wb.save(EXCEL_FILE)\n"
      ]
    },
    {
      "cell_type": "markdown",
      "id": "59a9d00b",
      "metadata": {
        "id": "59a9d00b"
      },
      "source": [
        "## Paso 4: Función para actualizar resultados"
      ]
    },
    {
      "cell_type": "code",
      "execution_count": null,
      "id": "0e46a560",
      "metadata": {
        "id": "0e46a560"
      },
      "outputs": [],
      "source": [
        "\n",
        "def actualizar_resultados(nivel, victoria):\n",
        "    \"\"\"\n",
        "    Suma una victoria o una derrota al nivel indicado.\n",
        "    \"\"\"\n",
        "    wb = load_workbook(EXCEL_FILE)\n",
        "    ws = wb[\"RESUMEN\"]\n",
        "    for row in ws.iter_rows(min_row=2, max_row=4):\n",
        "        if row[0].value == nivel:\n",
        "            if victoria:\n",
        "                row[1].value += 1\n",
        "            else:\n",
        "                row[2].value += 1\n",
        "    wb.save(EXCEL_FILE)\n"
      ]
    },
    {
      "cell_type": "markdown",
      "id": "7af0d3de",
      "metadata": {
        "id": "7af0d3de"
      },
      "source": [
        "## Paso 5: Función para mostrar resumen"
      ]
    },
    {
      "cell_type": "code",
      "execution_count": null,
      "id": "41e11a73",
      "metadata": {
        "id": "41e11a73"
      },
      "outputs": [],
      "source": [
        "\n",
        "def mostrar_resumen():\n",
        "    \"\"\"\n",
        "    Lee el archivo Excel y muestra cuántas victorias\n",
        "    y derrotas hay en cada nivel.\n",
        "    \"\"\"\n",
        "    wb = load_workbook(EXCEL_FILE)\n",
        "    ws = wb[\"RESUMEN\"]\n",
        "    print(\"\\nRESUMEN DE PARTIDAS\")\n",
        "    print(\"---------------------\")\n",
        "    for row in ws.iter_rows(min_row=2, max_row=4):\n",
        "        print(f\"{row[0].value}: Victorias={row[1].value}, Derrotas={row[2].value}\")\n"
      ]
    },
    {
      "cell_type": "markdown",
      "id": "8e1bccf5",
      "metadata": {
        "id": "8e1bccf5"
      },
      "source": [
        "## Paso 6: Función para mostrar gráficas"
      ]
    },
    {
      "cell_type": "code",
      "execution_count": null,
      "id": "e107a06b",
      "metadata": {
        "id": "e107a06b"
      },
      "outputs": [],
      "source": [
        "\n",
        "def mostrar_grafica():\n",
        "    \"\"\"\n",
        "    Dibuja un gráfico de barras con victorias y derrotas\n",
        "    para cada nivel.\n",
        "    \"\"\"\n",
        "    wb = load_workbook(EXCEL_FILE)\n",
        "    ws = wb[\"RESUMEN\"]\n",
        "    niveles, victorias, derrotas = [], [], []\n",
        "    for row in ws.iter_rows(min_row=2, max_row=4):\n",
        "        niveles.append(row[0].value)\n",
        "        victorias.append(row[1].value)\n",
        "        derrotas.append(row[2].value)\n",
        "\n",
        "    plt.bar(niveles, victorias, label=\"Victorias\")\n",
        "    plt.bar(niveles, derrotas, bottom=victorias, label=\"Derrotas\")\n",
        "    plt.legend()\n",
        "    plt.title(\"Resultados por Nivel\")\n",
        "    plt.show()\n"
      ]
    },
    {
      "cell_type": "markdown",
      "id": "05137d9e",
      "metadata": {
        "id": "05137d9e"
      },
      "source": [
        "## Paso 7: Función para jugar una partida"
      ]
    },
    {
      "cell_type": "code",
      "execution_count": null,
      "id": "1459ac1a",
      "metadata": {
        "id": "1459ac1a"
      },
      "outputs": [],
      "source": [
        "\n",
        "def jugar():\n",
        "    \"\"\"\n",
        "    Ejecuta una partida:\n",
        "    - Permite elegir dificultad.\n",
        "    - Genera un número aleatorio.\n",
        "    - Da pistas (mayor/menor).\n",
        "    - Guarda el resultado en el Excel.\n",
        "    \"\"\"\n",
        "    print(\"\\nSelecciona dificultad:\")\n",
        "    print(\"1. Fácil (15 intentos)\")\n",
        "    print(\"2. Medio (10 intentos)\")\n",
        "    print(\"3. Difícil (5 intentos)\")\n",
        "    opcion = input(\"Elige (1/2/3): \")\n",
        "\n",
        "    if opcion == \"1\":\n",
        "        nivel, intentos = \"Fácil\", 15\n",
        "    elif opcion == \"2\":\n",
        "        nivel, intentos = \"Medio\", 10\n",
        "    elif opcion == \"3\":\n",
        "        nivel, intentos = \"Difícil\", 5\n",
        "    else:\n",
        "        print(\"Opción inválida, se usará Medio por defecto\")\n",
        "        nivel, intentos = \"Medio\", 10\n",
        "\n",
        "    numero = random.randint(0, 1000)\n",
        "    print(f\"\\nAdivina el número entre 0 y 1000. Tienes {intentos} intentos.\")\n",
        "\n",
        "    for i in range(intentos):\n",
        "        intento = int(input(f\"Intento {i+1}: \"))\n",
        "        if intento == numero:\n",
        "            print(\"Ganaste!\")\n",
        "            actualizar_resultados(nivel, True)\n",
        "            return\n",
        "        elif intento < numero:\n",
        "            print(\"El número es mayor.\")\n",
        "        else:\n",
        "            print(\"El número es menor.\")\n",
        "\n",
        "    print(f\"Perdiste. El número era {numero}\")\n",
        "    actualizar_resultados(nivel, False)\n"
      ]
    },
    {
      "cell_type": "markdown",
      "id": "c40d01d0",
      "metadata": {
        "id": "c40d01d0"
      },
      "source": [
        "## Paso 8: Menú principal"
      ]
    },
    {
      "cell_type": "code",
      "execution_count": null,
      "id": "c7c81f08",
      "metadata": {
        "colab": {
          "base_uri": "https://localhost:8080/",
          "height": 1000
        },
        "id": "c7c81f08",
        "outputId": "50fcf8d3-82a7-43e1-f1ba-df19d60c1ba6"
      },
      "outputs": [
        {
          "metadata": {
            "tags": null
          },
          "name": "stdout",
          "output_type": "stream",
          "text": [
            "\n",
            "--- MENÚ PRINCIPAL ---\n",
            "1. Jugar\n",
            "2. Ver resumen\n",
            "3. Ver gráficas\n",
            "4. Salir\n",
            "\n",
            "RESUMEN DE PARTIDAS\n",
            "---------------------\n",
            "Fácil: Victorias=1, Derrotas=0\n",
            "Medio: Victorias=0, Derrotas=0\n",
            "Difícil: Victorias=0, Derrotas=0\n",
            "\n",
            "--- MENÚ PRINCIPAL ---\n",
            "1. Jugar\n",
            "2. Ver resumen\n",
            "3. Ver gráficas\n",
            "4. Salir\n",
            "\n",
            "Selecciona dificultad:\n",
            "1. Fácil (15 intentos)\n",
            "2. Medio (10 intentos)\n",
            "3. Difícil (5 intentos)\n",
            "\n",
            "Adivina el número entre 0 y 1000. Tienes 5 intentos.\n",
            "El número es menor.\n",
            "El número es menor.\n",
            "El número es mayor.\n",
            "El número es mayor.\n",
            "El número es mayor.\n",
            "Perdiste. El número era 486\n",
            "\n",
            "--- MENÚ PRINCIPAL ---\n",
            "1. Jugar\n",
            "2. Ver resumen\n",
            "3. Ver gráficas\n",
            "4. Salir\n"
          ]
        },
        {
          "data": {
            "image/png": "[encoded data removed]",
            "text/plain": [
              "<Figure size 640x480 with 1 Axes>"
            ]
          },
          "metadata": {},
          "output_type": "display_data"
        },
        {
          "metadata": {
            "tags": null
          },
          "name": "stdout",
          "output_type": "stream",
          "text": [
            "\n",
            "--- MENÚ PRINCIPAL ---\n",
            "1. Jugar\n",
            "2. Ver resumen\n",
            "3. Ver gráficas\n",
            "4. Salir\n"
          ]
        }
      ],
      "source": [
        "\n",
        "inicializar_excel()  # Asegurar que el Excel exista\n",
        "\n",
        "while True:\n",
        "    print(\"\\n--- MENÚ PRINCIPAL ---\")\n",
        "    print(\"1. Jugar\")\n",
        "    print(\"2. Ver resumen\")\n",
        "    print(\"3. Ver gráficas\")\n",
        "    print(\"4. Salir\")\n",
        "    opcion = input(\"Elige una opción: \")\n",
        "\n",
        "    if opcion == \"1\":\n",
        "        jugar()\n",
        "    elif opcion == \"2\":\n",
        "        mostrar_resumen()\n",
        "    elif opcion == \"3\":\n",
        "        mostrar_grafica()\n",
        "    elif opcion == \"4\":\n",
        "        print(\"Adiós!\")\n",
        "        break\n",
        "    else:\n",
        "        print(\"Opción no válida.\")\n"
      ]
    }
  ],
  "metadata": {
    "colab": {
      "provenance": [],
      "include_colab_link": true
    },
    "language_info": {
      "name": "python"
    },
    "kernelspec": {
      "name": "python3",
      "display_name": "Python 3"
    }
  },
  "nbformat": 4,
  "nbformat_minor": 5
}